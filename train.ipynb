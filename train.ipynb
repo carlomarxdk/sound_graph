{
 "cells": [
  {
   "cell_type": "code",
   "execution_count": 8,
   "metadata": {},
   "outputs": [],
   "source": [
    "from dataloader import MidiDataModule\n",
    "from model import MusicPerformer\n",
    "import pytorch_lightning as pl"
   ]
  },
  {
   "cell_type": "code",
   "execution_count": 9,
   "metadata": {},
   "outputs": [],
   "source": [
    "hparams = {\"version\": 0.4, ## change that on each new training\n",
    "            \"batch_size\": 8,\n",
    "           \"data_path\": \"data\",\n",
    "           \"tokenizer\": \"REMI\", \n",
    "           \"num_workers\": 1,\n",
    "           \"pitch_range\": range(21,109),\n",
    "           \"beat_res\":  {(0,4):8, (4,12):4},\n",
    "           \"prepare_data\": False,\n",
    "           \"nb_velocities\": 32,\n",
    "           \"additional_tokens\": {'Chord': True, 'Rest': True, 'Tempo': True, 'Program': False,\n",
    "                                  'rest_range': (2, 8),  # (half, 8 beats)\n",
    "                                  'nb_tempos': 32,  # nb of tempo bins\n",
    "                                  'tempo_range': (40, 250),\n",
    "                                  'TimeSignature': False},\n",
    "           \"sequence_len\": 512,\n",
    "            #### Model Related\n",
    "           \"hidden_size\": 256,\n",
    "           \"num_encoders\": 12,\n",
    "           \"num_heads\": 8,\n",
    "           \"learning_rate\": 1e-3,\n",
    "           \"weight_decay\": 1e-4,\n",
    "           \"vocab_size\": None, # no need to touch this one\n",
    "            ### Generation of Sequences,\n",
    "           \"repetition_penalty\": 0.0,\n",
    "           \"temperature\": 1.2,\n",
    "           \"seq_len_generate\": 100, ##how many tokens to generate\n",
    "           \"init_len_generate\": 20 ## how many initial tokens provide to generator \n",
    "            }"
   ]
  },
  {
   "cell_type": "code",
   "execution_count": 10,
   "metadata": {},
   "outputs": [
    {
     "name": "stdout",
     "output_type": "stream",
     "text": [
      "Vocabulary size: 277\n"
     ]
    }
   ],
   "source": [
    "data = MidiDataModule(hparams=hparams)\n",
    "#data.prepare_data() # only once\n",
    "data.setup()\n",
    "hparams[\"vocab_size\"] = len(data.tokenizer.vocab.token_to_event.keys())\n",
    "print(\"Vocabulary size:\", hparams[\"vocab_size\"])"
   ]
  },
  {
   "cell_type": "code",
   "execution_count": 11,
   "metadata": {},
   "outputs": [
    {
     "name": "stdout",
     "output_type": "stream",
     "text": [
      "unable to import cuda code for auto-regressive Performer. will default to the memory inefficient non-cuda version\n",
      "unable to import cuda code for auto-regressive Performer. will default to the memory inefficient non-cuda version\n",
      "unable to import cuda code for auto-regressive Performer. will default to the memory inefficient non-cuda version\n",
      "unable to import cuda code for auto-regressive Performer. will default to the memory inefficient non-cuda version\n",
      "unable to import cuda code for auto-regressive Performer. will default to the memory inefficient non-cuda version\n",
      "unable to import cuda code for auto-regressive Performer. will default to the memory inefficient non-cuda version\n",
      "unable to import cuda code for auto-regressive Performer. will default to the memory inefficient non-cuda version\n"
     ]
    },
    {
     "name": "stderr",
     "output_type": "stream",
     "text": [
      "GPU available: True, used: True\n",
      "TPU available: False, using: 0 TPU cores\n",
      "IPU available: False, using: 0 IPUs\n",
      "HPU available: False, using: 0 HPUs\n"
     ]
    },
    {
     "name": "stdout",
     "output_type": "stream",
     "text": [
      "unable to import cuda code for auto-regressive Performer. will default to the memory inefficient non-cuda version\n",
      "unable to import cuda code for auto-regressive Performer. will default to the memory inefficient non-cuda version\n",
      "unable to import cuda code for auto-regressive Performer. will default to the memory inefficient non-cuda version\n",
      "unable to import cuda code for auto-regressive Performer. will default to the memory inefficient non-cuda version\n",
      "unable to import cuda code for auto-regressive Performer. will default to the memory inefficient non-cuda version\n"
     ]
    },
    {
     "name": "stderr",
     "output_type": "stream",
     "text": [
      "LOCAL_RANK: 0 - CUDA_VISIBLE_DEVICES: [0]\n",
      "\n",
      "  | Name        | Type                  | Params\n",
      "------------------------------------------------------\n",
      "0 | transformer | AutoregressiveWrapper | 15.9 M\n",
      "------------------------------------------------------\n",
      "15.9 M    Trainable params\n",
      "0         Non-trainable params\n",
      "15.9 M    Total params\n",
      "63.596    Total estimated model params size (MB)\n"
     ]
    },
    {
     "name": "stdout",
     "output_type": "stream",
     "text": [
      "Epoch 0:  18%|█▊        | 20/110 [02:35<11:41,  7.79s/it, loss=5, v_num=2]2]\n",
      "Epoch 0:  84%|████████▎ | 92/110 [05:16<01:01,  3.43s/it, loss=3.13, v_num=2]"
     ]
    }
   ],
   "source": [
    "model = MusicPerformer(hparams=hparams)\n",
    "trainer = pl.Trainer(max_epochs=10, gpus=1)\n",
    "trainer.fit(model, data)"
   ]
  },
  {
   "cell_type": "code",
   "execution_count": null,
   "metadata": {},
   "outputs": [],
   "source": []
  }
 ],
 "metadata": {
  "kernelspec": {
   "display_name": "Python 3.9.13 ('compute3')",
   "language": "python",
   "name": "python3"
  },
  "language_info": {
   "codemirror_mode": {
    "name": "ipython",
    "version": 3
   },
   "file_extension": ".py",
   "mimetype": "text/x-python",
   "name": "python",
   "nbconvert_exporter": "python",
   "pygments_lexer": "ipython3",
   "version": "3.9.13"
  },
  "orig_nbformat": 4,
  "vscode": {
   "interpreter": {
    "hash": "762cfe526227965aea7d388a84be80cc6250f444741875408bf0c5390659c50b"
   }
  }
 },
 "nbformat": 4,
 "nbformat_minor": 2
}
