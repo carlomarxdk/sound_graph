{
 "cells": [
  {
   "cell_type": "code",
   "execution_count": 1,
   "metadata": {},
   "outputs": [
    {
     "name": "stderr",
     "output_type": "stream",
     "text": [
      "c:\\Users\\gersa\\.conda\\envs\\compute2\\lib\\site-packages\\tqdm\\auto.py:22: TqdmWarning: IProgress not found. Please update jupyter and ipywidgets. See https://ipywidgets.readthedocs.io/en/stable/user_install.html\n",
      "  from .autonotebook import tqdm as notebook_tqdm\n"
     ]
    }
   ],
   "source": [
    "from dataloader import MidiDataModule\n",
    "from model import MusicPerformer\n",
    "import pytorch_lightning as pl"
   ]
  },
  {
   "cell_type": "code",
   "execution_count": 2,
   "metadata": {},
   "outputs": [],
   "source": [
    "hparams = {\"version\": 0.1, ## change that on each new training\n",
    "            \"batch_size\": 16,\n",
    "           \"data_path\": \"data\",\n",
    "           \"tokenizer\": \"REMI\", \n",
    "           \"num_workers\": 1,\n",
    "           \"pitch_range\": range(21,109),\n",
    "           \"beat_res\":  {(0,4):8, (4,12):4},\n",
    "           \"prepare_data\": False,\n",
    "           \"nb_velocities\": 32,\n",
    "           \"additional_tokens\": {'Chord': True, 'Rest': True, 'Tempo': True, 'Program': False,\n",
    "                                  'rest_range': (2, 8),  # (half, 8 beats)\n",
    "                                  'nb_tempos': 32,  # nb of tempo bins\n",
    "                                  'tempo_range': (40, 250),\n",
    "                                  'TimeSignature': False},\n",
    "           \"sequence_len\": 512,\n",
    "            #### Model Related\n",
    "           \"hidden_size\": 256,\n",
    "           \"num_encoders\": 12,\n",
    "           \"num_heads\": 8,\n",
    "           \"learning_rate\": 1e-3,\n",
    "           \"weight_decay\": 1e-4,\n",
    "           \"vocab_size\": None, \n",
    "            ### Generation of Sequences,\n",
    "           \"repetition_penalty\": 0.2,\n",
    "           \"temperature\": 1.0,\n",
    "           \"seq_len_generate\": 100, ##how many tokens to generate\n",
    "           \"init_len_generate\": 50 ## how many initial tokens provide to generator \n",
    "            }"
   ]
  },
  {
   "cell_type": "code",
   "execution_count": 3,
   "metadata": {},
   "outputs": [
    {
     "name": "stdout",
     "output_type": "stream",
     "text": [
      "Vocabulary size: 277\n"
     ]
    }
   ],
   "source": [
    "data = MidiDataModule(hparams=hparams)\n",
    "#data.prepare_data() # only once\n",
    "data.setup()\n",
    "hparams[\"vocab_size\"] = len(data.tokenizer.vocab.token_to_event.keys())\n",
    "print(\"Vocabulary size:\", hparams[\"vocab_size\"])"
   ]
  },
  {
   "cell_type": "code",
   "execution_count": 4,
   "metadata": {},
   "outputs": [
    {
     "name": "stderr",
     "output_type": "stream",
     "text": [
      "GPU available: True, used: True\n",
      "TPU available: False, using: 0 TPU cores\n",
      "IPU available: False, using: 0 IPUs\n",
      "HPU available: False, using: 0 HPUs\n",
      "Missing logger folder: d:\\Code\\music\\sound_graph\\lightning_logs\n"
     ]
    },
    {
     "name": "stdout",
     "output_type": "stream",
     "text": [
      "unable to import cuda code for auto-regressive Performer. will default to the memory inefficient non-cuda version\n",
      "unable to import cuda code for auto-regressive Performer. will default to the memory inefficient non-cuda version\n",
      "unable to import cuda code for auto-regressive Performer. will default to the memory inefficient non-cuda version\n",
      "unable to import cuda code for auto-regressive Performer. will default to the memory inefficient non-cuda version\n",
      "unable to import cuda code for auto-regressive Performer. will default to the memory inefficient non-cuda version\n",
      "unable to import cuda code for auto-regressive Performer. will default to the memory inefficient non-cuda version\n",
      "unable to import cuda code for auto-regressive Performer. will default to the memory inefficient non-cuda version\n",
      "unable to import cuda code for auto-regressive Performer. will default to the memory inefficient non-cuda version\n",
      "unable to import cuda code for auto-regressive Performer. will default to the memory inefficient non-cuda version\n",
      "unable to import cuda code for auto-regressive Performer. will default to the memory inefficient non-cuda version\n",
      "unable to import cuda code for auto-regressive Performer. will default to the memory inefficient non-cuda version\n",
      "unable to import cuda code for auto-regressive Performer. will default to the memory inefficient non-cuda version\n"
     ]
    },
    {
     "name": "stderr",
     "output_type": "stream",
     "text": [
      "LOCAL_RANK: 0 - CUDA_VISIBLE_DEVICES: [0]\n",
      "\n",
      "  | Name        | Type                  | Params\n",
      "------------------------------------------------------\n",
      "0 | transformer | AutoregressiveWrapper | 15.9 M\n",
      "------------------------------------------------------\n",
      "15.9 M    Trainable params\n",
      "0         Non-trainable params\n",
      "15.9 M    Total params\n",
      "63.596    Total estimated model params size (MB)\n"
     ]
    },
    {
     "name": "stdout",
     "output_type": "stream",
     "text": [
      "Sanity Checking: 0it [00:00, ?it/s]"
     ]
    },
    {
     "name": "stderr",
     "output_type": "stream",
     "text": [
      "c:\\Users\\gersa\\.conda\\envs\\compute2\\lib\\site-packages\\pytorch_lightning\\trainer\\connectors\\data_connector.py:240: PossibleUserWarning: The dataloader, val_dataloader 0, does not have many workers which may be a bottleneck. Consider increasing the value of the `num_workers` argument` (try 12 which is the number of cpus on this machine) in the `DataLoader` init to improve performance.\n",
      "  rank_zero_warn(\n"
     ]
    },
    {
     "name": "stdout",
     "output_type": "stream",
     "text": [
      "Sanity Checking DataLoader 0:   0%|          | 0/2 [00:00<?, ?it/s]"
     ]
    }
   ],
   "source": [
    "model = MusicPerformer(hparams=hparams)\n",
    "trainer = pl.Trainer(max_epochs=10, gpus=1)\n",
    "trainer.fit(model, data)"
   ]
  },
  {
   "cell_type": "code",
   "execution_count": null,
   "metadata": {},
   "outputs": [],
   "source": []
  }
 ],
 "metadata": {
  "kernelspec": {
   "display_name": "Python 3.9.12 ('compute2')",
   "language": "python",
   "name": "python3"
  },
  "language_info": {
   "codemirror_mode": {
    "name": "ipython",
    "version": 3
   },
   "file_extension": ".py",
   "mimetype": "text/x-python",
   "name": "python",
   "nbconvert_exporter": "python",
   "pygments_lexer": "ipython3",
   "version": "3.9.12"
  },
  "orig_nbformat": 4,
  "vscode": {
   "interpreter": {
    "hash": "07fa15a5867e7a4aba93e1e8038949a2a60c18017e7a3c4693d420db02d98c47"
   }
  }
 },
 "nbformat": 4,
 "nbformat_minor": 2
}
