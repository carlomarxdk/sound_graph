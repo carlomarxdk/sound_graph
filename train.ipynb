{
 "cells": [
  {
   "cell_type": "code",
   "execution_count": 8,
   "metadata": {},
   "outputs": [],
   "source": [
    "from dataloader import MidiDataModule\n",
    "from model import MusicPerformer\n",
    "import pytorch_lightning as pl"
   ]
  },
  {
   "cell_type": "code",
   "execution_count": 9,
   "metadata": {},
   "outputs": [],
   "source": [
    "hparams = {\"version\": 1.0, ## change that on each new training\n",
    "           \"batch_size\": 8,\n",
    "           \"data_path\": \"data\",\n",
    "           \"tokenizer\": \"REMI\", \n",
    "           \"num_workers\": 1,\n",
    "           \"pitch_range\": range(21,109),\n",
    "           \"beat_res\":  {(0,4):8, (4,12):4},\n",
    "           \"prepare_data\": False,\n",
    "           \"nb_velocities\": 32,\n",
    "           \"additional_tokens\": {'Chord': True, 'Rest': True, 'Tempo': True, 'Program': False,\n",
    "                                  'rest_range': (2, 8),  # (half, 8 beats)\n",
    "                                  'nb_tempos': 32,  # nb of tempo bins\n",
    "                                  'tempo_range': (40, 250),\n",
    "                                  'TimeSignature': False},\n",
    "           \"sequence_len\": 512,\n",
    "            #### Model Related\n",
    "           \"hidden_size\": 256,\n",
    "           \"num_encoders\": 12,\n",
    "           \"num_heads\": 8,\n",
    "           \"learning_rate\": 1e-3,\n",
    "           \"weight_decay\": 1e-4,\n",
    "           \"vocab_size\": None, # no need to touch this one\n",
    "            ### Generation of Sequences,\n",
    "           \"repetition_penalty\": 0.0,\n",
    "           \"temperature\": 1.2,\n",
    "           \"seq_len_generate\": 100, ##how many tokens to generate\n",
    "           \"init_len_generate\": 20 ## how many initial tokens provide to generator \n",
    "            }"
   ]
  },
  {
   "cell_type": "code",
   "execution_count": 10,
   "metadata": {},
   "outputs": [
    {
     "name": "stdout",
     "output_type": "stream",
     "text": [
      "Vocabulary size: 277\n"
     ]
    }
   ],
   "source": [
    "data = MidiDataModule(hparams=hparams)\n",
    "#data.prepare_data() # only once\n",
    "data.setup()\n",
    "hparams[\"vocab_size\"] = len(data.tokenizer.vocab.token_to_event.keys())\n",
    "print(\"Vocabulary size:\", hparams[\"vocab_size\"])"
   ]
  },
  {
   "cell_type": "markdown",
   "metadata": {},
   "source": [
    "## Train Model and Save a Checkpoint"
   ]
  },
  {
   "cell_type": "code",
   "execution_count": 11,
   "metadata": {},
   "outputs": [
    {
     "name": "stderr",
     "output_type": "stream",
     "text": [
      "GPU available: True, used: True\n",
      "TPU available: False, using: 0 TPU cores\n",
      "IPU available: False, using: 0 IPUs\n",
      "HPU available: False, using: 0 HPUs\n",
      "`Trainer(limit_val_batches=1)` was configured so 1 batch will be used.\n",
      "Missing logger folder: d:\\Code\\music\\sound_graph\\lightning_logs\n"
     ]
    },
    {
     "name": "stdout",
     "output_type": "stream",
     "text": [
      "unable to import cuda code for auto-regressive Performer. will default to the memory inefficient non-cuda version\n",
      "unable to import cuda code for auto-regressive Performer. will default to the memory inefficient non-cuda version\n",
      "unable to import cuda code for auto-regressive Performer. will default to the memory inefficient non-cuda version\n",
      "unable to import cuda code for auto-regressive Performer. will default to the memory inefficient non-cuda version\n",
      "unable to import cuda code for auto-regressive Performer. will default to the memory inefficient non-cuda version\n",
      "unable to import cuda code for auto-regressive Performer. will default to the memory inefficient non-cuda version\n",
      "unable to import cuda code for auto-regressive Performer. will default to the memory inefficient non-cuda version\n",
      "unable to import cuda code for auto-regressive Performer. will default to the memory inefficient non-cuda version\n",
      "unable to import cuda code for auto-regressive Performer. will default to the memory inefficient non-cuda version\n",
      "unable to import cuda code for auto-regressive Performer. will default to the memory inefficient non-cuda version\n",
      "unable to import cuda code for auto-regressive Performer. will default to the memory inefficient non-cuda version\n",
      "unable to import cuda code for auto-regressive Performer. will default to the memory inefficient non-cuda version\n"
     ]
    },
    {
     "name": "stderr",
     "output_type": "stream",
     "text": [
      "LOCAL_RANK: 0 - CUDA_VISIBLE_DEVICES: [0]\n",
      "\n",
      "  | Name        | Type                  | Params\n",
      "------------------------------------------------------\n",
      "0 | transformer | AutoregressiveWrapper | 15.9 M\n",
      "------------------------------------------------------\n",
      "15.9 M    Trainable params\n",
      "0         Non-trainable params\n",
      "15.9 M    Total params\n",
      "63.596    Total estimated model params size (MB)\n"
     ]
    },
    {
     "name": "stdout",
     "output_type": "stream",
     "text": [
      "Sanity Checking: 0it [00:00, ?it/s]"
     ]
    },
    {
     "name": "stderr",
     "output_type": "stream",
     "text": [
      "c:\\Users\\gersa\\.conda\\envs\\compute3\\lib\\site-packages\\pytorch_lightning\\trainer\\connectors\\data_connector.py:240: PossibleUserWarning: The dataloader, val_dataloader 0, does not have many workers which may be a bottleneck. Consider increasing the value of the `num_workers` argument` (try 12 which is the number of cpus on this machine) in the `DataLoader` init to improve performance.\n",
      "  rank_zero_warn(\n"
     ]
    },
    {
     "name": "stdout",
     "output_type": "stream",
     "text": [
      "                                                                           "
     ]
    },
    {
     "name": "stderr",
     "output_type": "stream",
     "text": [
      "c:\\Users\\gersa\\.conda\\envs\\compute3\\lib\\site-packages\\pytorch_lightning\\trainer\\connectors\\data_connector.py:240: PossibleUserWarning: The dataloader, train_dataloader, does not have many workers which may be a bottleneck. Consider increasing the value of the `num_workers` argument` (try 12 which is the number of cpus on this machine) in the `DataLoader` init to improve performance.\n",
      "  rank_zero_warn(\n"
     ]
    },
    {
     "name": "stdout",
     "output_type": "stream",
     "text": [
      "Epoch 0:  47%|████▋     | 46/98 [02:32<02:52,  3.32s/it, loss=3.56, v_num=0]"
     ]
    },
    {
     "name": "stderr",
     "output_type": "stream",
     "text": [
      "c:\\Users\\gersa\\.conda\\envs\\compute3\\lib\\site-packages\\pytorch_lightning\\trainer\\trainer.py:726: UserWarning: Detected KeyboardInterrupt, attempting graceful shutdown...\n",
      "  rank_zero_warn(\"Detected KeyboardInterrupt, attempting graceful shutdown...\")\n"
     ]
    },
    {
     "ename": "AttributeError",
     "evalue": "'dict' object has no attribute 'version'",
     "output_type": "error",
     "traceback": [
      "\u001b[1;31m---------------------------------------------------------------------------\u001b[0m",
      "\u001b[1;31mAttributeError\u001b[0m                            Traceback (most recent call last)",
      "\u001b[1;32md:\\Code\\music\\sound_graph\\train.ipynb Cell 5\u001b[0m in \u001b[0;36m<cell line: 4>\u001b[1;34m()\u001b[0m\n\u001b[0;32m      <a href='vscode-notebook-cell:/d%3A/Code/music/sound_graph/train.ipynb#ch0000003?line=1'>2</a>\u001b[0m trainer \u001b[39m=\u001b[39m pl\u001b[39m.\u001b[39mTrainer(max_epochs\u001b[39m=\u001b[39m\u001b[39m20\u001b[39m, gpus\u001b[39m=\u001b[39m\u001b[39m1\u001b[39m, limit_val_batches \u001b[39m=\u001b[39m \u001b[39m1\u001b[39m, limit_train_batches\u001b[39m=\u001b[39m \u001b[39m100\u001b[39m)\n\u001b[0;32m      <a href='vscode-notebook-cell:/d%3A/Code/music/sound_graph/train.ipynb#ch0000003?line=2'>3</a>\u001b[0m trainer\u001b[39m.\u001b[39mfit(model, data)\n\u001b[1;32m----> <a href='vscode-notebook-cell:/d%3A/Code/music/sound_graph/train.ipynb#ch0000003?line=3'>4</a>\u001b[0m trainer\u001b[39m.\u001b[39msave_checkpoint(\u001b[39m\"\u001b[39m\u001b[39m%s\u001b[39;00m\u001b[39m_trained.ckpt\u001b[39m\u001b[39m\"\u001b[39m \u001b[39m%\u001b[39mhparams\u001b[39m.\u001b[39;49mversion)\n",
      "\u001b[1;31mAttributeError\u001b[0m: 'dict' object has no attribute 'version'"
     ]
    }
   ],
   "source": [
    "model = MusicPerformer(hparams=hparams)\n",
    "trainer = pl.Trainer(max_epochs=20, gpus=1, limit_val_batches = 1, limit_train_batches= 100)\n",
    "trainer.fit(model, data)\n",
    "trainer.save_checkpoint(\"%s_trained.ckpt\" %hparams[\"version\"])"
   ]
  },
  {
   "cell_type": "markdown",
   "metadata": {},
   "source": [
    "## Generate sample from model checkpoint"
   ]
  },
  {
   "cell_type": "code",
   "execution_count": null,
   "metadata": {},
   "outputs": [],
   "source": [
    "sample = data.val_dataset[1] ##specify ID of the sample to use \n",
    "model = MusicPerformer.load_from_checkpoint(\"path to checkpoint\")\n",
    "model.generate_sequence(input_sequence=sample, output_filename=\"sample\", num_tokens_to_use=50, num_token_to_generate=100,\n",
    "                        temperature = 1.0, \n",
    "                        repetition_penalty = 0.0,\n",
    "                        filter_thres = 0.9,        ## parameter for the top_k\n",
    "                        filter_logits_fn=\"top_k\" ) ## can use \"top_p\""
   ]
  },
  {
   "cell_type": "code",
   "execution_count": 13,
   "metadata": {},
   "outputs": [],
   "source": [
    "from music21 import corpus"
   ]
  },
  {
   "cell_type": "code",
   "execution_count": 24,
   "metadata": {},
   "outputs": [
    {
     "name": "stdout",
     "output_type": "stream",
     "text": [
      "baerenreiter 68\n",
      "budapest 358\n",
      "bwv 431\n",
      "kalmus 358\n",
      "notes None\n",
      "riemenschneider 68\n",
      "title Wenn wir in höchsten Nöten sein\n"
     ]
    },
    {
     "data": {
      "text/plain": [
       "<music21.stream.Score 0x219238307f0>"
      ]
     },
     "execution_count": 24,
     "metadata": {},
     "output_type": "execute_result"
    }
   ],
   "source": [
    "bcl = corpus.chorales.ChoraleList()\n",
    "info358 = bcl.byBudapest[358]\n",
    "for key in sorted(list(info358)):\n",
    "  print(f'{key} {info358[key]}')\n",
    "\n",
    "b = corpus.parse('bwv' + str(corpus.chorales.ChoraleList().byRiemenschneider[2]['bwv']))\n",
    "b  # shows Bach BWV431"
   ]
  },
  {
   "cell_type": "code",
   "execution_count": 1,
   "metadata": {},
   "outputs": [
    {
     "ename": "NameError",
     "evalue": "name 'music21' is not defined",
     "output_type": "error",
     "traceback": [
      "\u001b[1;31m---------------------------------------------------------------------------\u001b[0m",
      "\u001b[1;31mNameError\u001b[0m                                 Traceback (most recent call last)",
      "\u001b[1;32md:\\Code\\music\\sound_graph\\train.ipynb Cell 10\u001b[0m in \u001b[0;36m<cell line: 1>\u001b[1;34m()\u001b[0m\n\u001b[1;32m----> <a href='vscode-notebook-cell:/d%3A/Code/music/sound_graph/train.ipynb#ch0000009?line=0'>1</a>\u001b[0m music21\u001b[39m.\u001b[39mmidi\n",
      "\u001b[1;31mNameError\u001b[0m: name 'music21' is not defined"
     ]
    }
   ],
   "source": [
    "music21.midi"
   ]
  },
  {
   "cell_type": "code",
   "execution_count": null,
   "metadata": {},
   "outputs": [],
   "source": []
  }
 ],
 "metadata": {
  "kernelspec": {
   "display_name": "Python 3.9.13 ('compute3')",
   "language": "python",
   "name": "python3"
  },
  "language_info": {
   "codemirror_mode": {
    "name": "ipython",
    "version": 3
   },
   "file_extension": ".py",
   "mimetype": "text/x-python",
   "name": "python",
   "nbconvert_exporter": "python",
   "pygments_lexer": "ipython3",
   "version": "3.9.13"
  },
  "orig_nbformat": 4,
  "vscode": {
   "interpreter": {
    "hash": "762cfe526227965aea7d388a84be80cc6250f444741875408bf0c5390659c50b"
   }
  }
 },
 "nbformat": 4,
 "nbformat_minor": 2
}
